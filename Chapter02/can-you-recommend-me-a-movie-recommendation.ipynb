{
 "cells": [
  {
   "cell_type": "markdown",
   "metadata": {},
   "source": [
    "In the [previous lesson](https://www.kaggle.com/prashantkikani/are-you-being-sarcastic-sarcasm-detection-nlp/), we learned basics of Natual Language Processing(NLP) by trying to solve Sarcasm detection problem & hands-on experience with Python code.\n",
    "\n",
    "Today in this lesson, we will learn the basics of recommendation by recommending Movies to users !<br>\n",
    "Logic will be same to recommend TV shows.<br>\n",
    "\n",
    "![recommendation](https://qjjnh3a9hpo1nukrg1fwoh71-wpengine.netdna-ssl.com/wp-content/uploads/2019/06/everything_is_reco_800px_web.jpg)\n",
    "<center>Netflix recommendation to it's users</center>\n",
    "<br>\n",
    "We will use [MovieLens](https://movielens.org/) dataset to recommend movies.<br><br>\n",
    "Technique we are going to use is known as \"Collaborative filtering\" in technical terms.\n",
    "\n",
    "## Let's first understand how recommendation works in a nutshell.\n",
    "\n",
    "We use simple heuristics to suggest items. Like,\n",
    "\n",
    "* User based\n",
    "    * Let’s say we want to show recommendations to user **A**.\n",
    "    * In this method, we try to find a similar user **B** who also tends to like items that user **A** likes.\n",
    "    * So, we recommend user **B**‘s other liked items to user **A**.\n",
    "    * Logic behind this is, similar people may like similar items.\n",
    "    ![user-based](https://miro.medium.com/max/700/0*o0zVW2O6Rv-LI5Mu.png)\n",
    "* Item based\n",
    "    * Let’s say one user buy item **P**.\n",
    "    * Now, from all the user’s data, there’s one item **S** which users bought almost all time whenever item **P** get bought.\n",
    "    * So, we recommend item **S** to users whenever they buy item **P**.\n",
    "    * Logic behind this is, similar items may be sold together.\n",
    "    ![item-based](https://miro.medium.com/max/667/1*oYpMnPQFZaiZQizgVWBpoA.png)\n",
    "\n",
    "Above 2 methods are very basic ones. But they shows how simple recom mendation algorithms work.<br>\n",
    "### Latest recommendation systems we see in day to day lives in Netflix & Amazon uses much more data like user's personal information etc.<br>\n",
    "\n",
    "Let's learn by coding now.\n"
   ]
  },
  {
   "cell_type": "code",
   "execution_count": 1,
   "metadata": {
    "_cell_guid": "b1076dfc-b9ad-4769-8c92-a6c4dae69d19",
    "_uuid": "8f2839f25d086af736a60e9eeb907d3b93b6e0e5"
   },
   "outputs": [],
   "source": [
    "# to open files\n",
    "import pandas as pd\n",
    "\n",
    "# for numerical operations\n",
    "import numpy as np\n",
    "\n",
    "# sci-kit learn to measure distances\n",
    "from sklearn.metrics.pairwise import pairwise_distances"
   ]
  },
  {
   "cell_type": "markdown",
   "metadata": {},
   "source": [
    "Let's read the data"
   ]
  },
  {
   "cell_type": "code",
   "execution_count": 2,
   "metadata": {},
   "outputs": [
    {
     "data": {
      "text/html": [
       "<div>\n",
       "<style scoped>\n",
       "    .dataframe tbody tr th:only-of-type {\n",
       "        vertical-align: middle;\n",
       "    }\n",
       "\n",
       "    .dataframe tbody tr th {\n",
       "        vertical-align: top;\n",
       "    }\n",
       "\n",
       "    .dataframe thead th {\n",
       "        text-align: right;\n",
       "    }\n",
       "</style>\n",
       "<table border=\"1\" class=\"dataframe\">\n",
       "  <thead>\n",
       "    <tr style=\"text-align: right;\">\n",
       "      <th></th>\n",
       "      <th>user_id</th>\n",
       "      <th>item_id</th>\n",
       "      <th>rating</th>\n",
       "      <th>timestamp</th>\n",
       "    </tr>\n",
       "  </thead>\n",
       "  <tbody>\n",
       "    <tr>\n",
       "      <th>0</th>\n",
       "      <td>196</td>\n",
       "      <td>242</td>\n",
       "      <td>3</td>\n",
       "      <td>881250949</td>\n",
       "    </tr>\n",
       "    <tr>\n",
       "      <th>1</th>\n",
       "      <td>186</td>\n",
       "      <td>302</td>\n",
       "      <td>3</td>\n",
       "      <td>891717742</td>\n",
       "    </tr>\n",
       "    <tr>\n",
       "      <th>2</th>\n",
       "      <td>22</td>\n",
       "      <td>377</td>\n",
       "      <td>1</td>\n",
       "      <td>878887116</td>\n",
       "    </tr>\n",
       "    <tr>\n",
       "      <th>3</th>\n",
       "      <td>244</td>\n",
       "      <td>51</td>\n",
       "      <td>2</td>\n",
       "      <td>880606923</td>\n",
       "    </tr>\n",
       "    <tr>\n",
       "      <th>4</th>\n",
       "      <td>166</td>\n",
       "      <td>346</td>\n",
       "      <td>1</td>\n",
       "      <td>886397596</td>\n",
       "    </tr>\n",
       "  </tbody>\n",
       "</table>\n",
       "</div>"
      ],
      "text/plain": [
       "   user_id  item_id  rating  timestamp\n",
       "0      196      242       3  881250949\n",
       "1      186      302       3  891717742\n",
       "2       22      377       1  878887116\n",
       "3      244       51       2  880606923\n",
       "4      166      346       1  886397596"
      ]
     },
     "execution_count": 2,
     "metadata": {},
     "output_type": "execute_result"
    }
   ],
   "source": [
    "header = ['user_id', 'item_id', 'rating', 'timestamp']\n",
    "movielens_data = pd.read_csv('../input/movielens-100k-dataset/ml-100k/u.data', sep='\\t', names=header)\n",
    "movielens_data.head()"
   ]
  },
  {
   "cell_type": "code",
   "execution_count": 3,
   "metadata": {},
   "outputs": [
    {
     "data": {
      "text/plain": [
       "(100000, 4)"
      ]
     },
     "execution_count": 3,
     "metadata": {},
     "output_type": "execute_result"
    }
   ],
   "source": [
    "movielens_data.shape"
   ]
  },
  {
   "cell_type": "code",
   "execution_count": 4,
   "metadata": {},
   "outputs": [
    {
     "data": {
      "text/plain": [
       "(943, 1682)"
      ]
     },
     "execution_count": 4,
     "metadata": {},
     "output_type": "execute_result"
    }
   ],
   "source": [
    "n_users, n_movies  = movielens_data['user_id'].nunique(), movielens_data['item_id'].nunique()\n",
    "n_users, n_movies"
   ]
  },
  {
   "cell_type": "markdown",
   "metadata": {},
   "source": [
    "### We can see we have 100k ratings from 943 unique users to 1682 unique movies.\n",
    "Now let's create a sparse 2D matrix with user ID & item ID(movie ID)."
   ]
  },
  {
   "cell_type": "code",
   "execution_count": 5,
   "metadata": {},
   "outputs": [
    {
     "data": {
      "text/plain": [
       "(943, 1682)"
      ]
     },
     "execution_count": 5,
     "metadata": {},
     "output_type": "execute_result"
    }
   ],
   "source": [
    "# We can also use panda's pivot_table to create this 2D matrix. But I'll keep it simple by doing it mannually.\n",
    "# https://pandas.pydata.org/pandas-docs/stable/reference/api/pandas.pivot_table.html\n",
    "\n",
    "train_data_matrix = np.zeros((n_users, n_movies))\n",
    "\n",
    "for line in movielens_data.itertuples():\n",
    "    train_data_matrix[line[1]-1, line[2]-1] = line[3]\n",
    "    \n",
    "train_data_matrix.shape"
   ]
  },
  {
   "cell_type": "code",
   "execution_count": 6,
   "metadata": {},
   "outputs": [
    {
     "data": {
      "text/plain": [
       "array([[5., 3., 4., ..., 0., 0., 0.],\n",
       "       [4., 0., 0., ..., 0., 0., 0.],\n",
       "       [0., 0., 0., ..., 0., 0., 0.],\n",
       "       ...,\n",
       "       [5., 0., 0., ..., 0., 0., 0.],\n",
       "       [0., 0., 0., ..., 0., 0., 0.],\n",
       "       [0., 5., 0., ..., 0., 0., 0.]])"
      ]
     },
     "execution_count": 6,
     "metadata": {},
     "output_type": "execute_result"
    }
   ],
   "source": [
    "train_data_matrix"
   ]
  },
  {
   "cell_type": "markdown",
   "metadata": {},
   "source": [
    "This 2D matrix have `943` rows & `1682` columns.<br>\n",
    "### Each raw represents a user, each column represents a movie.<br>\n",
    "\n",
    "Whiever movie a user have seen, that values for that user will be the rating of that movie, given by that user. Other values will be zero for that user.<br>\n",
    "\n",
    "For e.g.<br>\n",
    "Let's say user **A** have watched `5` movies out of total `1682` movies.<br>\n",
    "So, user **A**'s raw will have `5` non-zero values filled with ratings of those `5` movies.<br>\n",
    "All other `1677` columns (`1682` - `5`) will be `0` in that user's raw.<br><br>\n",
    "\n",
    "### Now, let's calculate user_distances & movie_distances.<br>\n",
    "* `user_distances` is, distances of a user with every other user.<br>\n",
    "* `movie_distances` is, distances of a movie with every other movie.<br>\n",
    "\n",
    "### We will use cosine similarity to measure distance.\n",
    "Why?<br>\n",
    "Because, cosine distance works comparatively good on vectors than euclidean etc. metrics.<br>\n",
    "Here's the formula which is used to calculate cosine distance.<br>\n",
    "![cosine-distance](https://distilledai.com/wp-content/uploads/2020/04/cosine-similarity.png)"
   ]
  },
  {
   "cell_type": "code",
   "execution_count": 7,
   "metadata": {},
   "outputs": [
    {
     "data": {
      "text/plain": [
       "((943, 943), (1682, 1682))"
      ]
     },
     "execution_count": 7,
     "metadata": {},
     "output_type": "execute_result"
    }
   ],
   "source": [
    "user_distances = pairwise_distances(train_data_matrix, metric=\"cosine\")\n",
    "\n",
    "# \".T\" below is to transpose our 2D matrix.\n",
    "train_data_matrix_transpose = train_data_matrix.T\n",
    "movie_distances = pairwise_distances(train_data_matrix_transpose, metric=\"cosine\")\n",
    "\n",
    "user_distances.shape, movie_distances.shape"
   ]
  },
  {
   "cell_type": "markdown",
   "metadata": {},
   "source": [
    "We can see, `user_distances` & `movie_distances` are square matrices as expected.<br>\n",
    "### user_distances is distance of each user with other users & movie_distances is distance of each movie with other movies.\n",
    "\n",
    "## What do we mean by \"distance\" here?\n",
    "\n",
    "### \"Distance\" here means, how much far two user are far from each other in terms of their favorite movies.<br>\n",
    "Like, let say, <br>\n",
    "* User **A** likes 6 movies with 5 rating to each of them. <br>\n",
    "* User **B** likes 4 movies with 5 ratings.<br><br>\n",
    "\n",
    "Now, all 4 of those movies, are from 6 movies which user **A** likes. <br>\n",
    "So, distance between user **B** & user **A** is less compared to user **C** whose favorite movies have no intersection with **A** or **B**.\n",
    "\n",
    "![collaborative filtering](https://distilledai.com/wp-content/uploads/2020/04/collaborative-filtering.png)\n",
    "<br><br>\n",
    "* Here we can see, user **E**'s choices are matching with user **B** & **C** higher compared to others.<br>\n",
    "* So, distance between them will be lower compared to others.<br><br>\n",
    "\n",
    "* Similarly, item **3** is more matching with **4** compared to others.<br>\n",
    "* So, distance will be lower between them."
   ]
  },
  {
   "cell_type": "code",
   "execution_count": 8,
   "metadata": {},
   "outputs": [
    {
     "data": {
      "text/plain": [
       "array([[0.        , 0.83306902, 0.95254046, ..., 0.85138306, 0.82049212,\n",
       "        0.60182526],\n",
       "       [0.83306902, 0.        , 0.88940868, ..., 0.83851522, 0.82773219,\n",
       "        0.89420212],\n",
       "       [0.95254046, 0.88940868, 0.        , ..., 0.89875744, 0.86658385,\n",
       "        0.97344413],\n",
       "       ...,\n",
       "       [0.85138306, 0.83851522, 0.89875744, ..., 0.        , 0.8983582 ,\n",
       "        0.90488042],\n",
       "       [0.82049212, 0.82773219, 0.86658385, ..., 0.8983582 , 0.        ,\n",
       "        0.81753534],\n",
       "       [0.60182526, 0.89420212, 0.97344413, ..., 0.90488042, 0.81753534,\n",
       "        0.        ]])"
      ]
     },
     "execution_count": 8,
     "metadata": {},
     "output_type": "execute_result"
    }
   ],
   "source": [
    "user_distances"
   ]
  },
  {
   "cell_type": "code",
   "execution_count": 9,
   "metadata": {},
   "outputs": [
    {
     "data": {
      "text/plain": [
       "array([[0.        , 0.59761782, 0.66975521, ..., 1.        , 0.95281693,\n",
       "        0.95281693],\n",
       "       [0.59761782, 0.        , 0.72693082, ..., 1.        , 0.92170064,\n",
       "        0.92170064],\n",
       "       [0.66975521, 0.72693082, 0.        , ..., 1.        , 1.        ,\n",
       "        0.90312495],\n",
       "       ...,\n",
       "       [1.        , 1.        , 1.        , ..., 0.        , 1.        ,\n",
       "        1.        ],\n",
       "       [0.95281693, 0.92170064, 1.        , ..., 1.        , 0.        ,\n",
       "        1.        ],\n",
       "       [0.95281693, 0.92170064, 0.90312495, ..., 1.        , 1.        ,\n",
       "        0.        ]])"
      ]
     },
     "execution_count": 9,
     "metadata": {},
     "output_type": "execute_result"
    }
   ],
   "source": [
    "movie_distances"
   ]
  },
  {
   "cell_type": "markdown",
   "metadata": {},
   "source": [
    "### Above values represent \"distances\"<br>So, let's make \"similarity\" matrices from them.<br>We can calculate \"similarity\" just by subtracting every value from 1."
   ]
  },
  {
   "cell_type": "code",
   "execution_count": 10,
   "metadata": {},
   "outputs": [],
   "source": [
    "user_similarity = 1 - user_distances\n",
    "movie_similarity = 1 - movie_distances"
   ]
  },
  {
   "cell_type": "code",
   "execution_count": 11,
   "metadata": {},
   "outputs": [
    {
     "data": {
      "text/plain": [
       "array([[1.        , 0.16693098, 0.04745954, ..., 0.14861694, 0.17950788,\n",
       "        0.39817474],\n",
       "       [0.16693098, 1.        , 0.11059132, ..., 0.16148478, 0.17226781,\n",
       "        0.10579788],\n",
       "       [0.04745954, 0.11059132, 1.        , ..., 0.10124256, 0.13341615,\n",
       "        0.02655587],\n",
       "       ...,\n",
       "       [0.14861694, 0.16148478, 0.10124256, ..., 1.        , 0.1016418 ,\n",
       "        0.09511958],\n",
       "       [0.17950788, 0.17226781, 0.13341615, ..., 0.1016418 , 1.        ,\n",
       "        0.18246466],\n",
       "       [0.39817474, 0.10579788, 0.02655587, ..., 0.09511958, 0.18246466,\n",
       "        1.        ]])"
      ]
     },
     "execution_count": 11,
     "metadata": {},
     "output_type": "execute_result"
    }
   ],
   "source": [
    "user_similarity"
   ]
  },
  {
   "cell_type": "code",
   "execution_count": 12,
   "metadata": {},
   "outputs": [
    {
     "data": {
      "text/plain": [
       "array([[1.        , 0.40238218, 0.33024479, ..., 0.        , 0.04718307,\n",
       "        0.04718307],\n",
       "       [0.40238218, 1.        , 0.27306918, ..., 0.        , 0.07829936,\n",
       "        0.07829936],\n",
       "       [0.33024479, 0.27306918, 1.        , ..., 0.        , 0.        ,\n",
       "        0.09687505],\n",
       "       ...,\n",
       "       [0.        , 0.        , 0.        , ..., 1.        , 0.        ,\n",
       "        0.        ],\n",
       "       [0.04718307, 0.07829936, 0.        , ..., 0.        , 1.        ,\n",
       "        0.        ],\n",
       "       [0.04718307, 0.07829936, 0.09687505, ..., 0.        , 0.        ,\n",
       "        1.        ]])"
      ]
     },
     "execution_count": 12,
     "metadata": {},
     "output_type": "execute_result"
    }
   ],
   "source": [
    "movie_similarity"
   ]
  },
  {
   "cell_type": "markdown",
   "metadata": {},
   "source": [
    "### Now, Above matrices represents \"similarities\".\n",
    "\n",
    "Now, let's open file which contain all the movie's names."
   ]
  },
  {
   "cell_type": "code",
   "execution_count": 13,
   "metadata": {},
   "outputs": [],
   "source": [
    "idx_to_movie = {}\n",
    "\n",
    "with open('../input/movielens-100k-dataset/ml-100k/u.item', 'r', encoding=\"ISO-8859-1\") as f:\n",
    "    for line in f.readlines():\n",
    "        info = line.split('|')\n",
    "        idx_to_movie[int(info[0])-1] = info[1]\n",
    "\n",
    "movie_to_idx = {v: k for k, v in idx_to_movie.items()}"
   ]
  },
  {
   "cell_type": "code",
   "execution_count": 14,
   "metadata": {},
   "outputs": [
    {
     "data": {
      "text/plain": [
       "('Toy Story (1995)',\n",
       " 'GoldenEye (1995)',\n",
       " 'Four Rooms (1995)',\n",
       " 'Get Shorty (1995)')"
      ]
     },
     "execution_count": 14,
     "metadata": {},
     "output_type": "execute_result"
    }
   ],
   "source": [
    "idx_to_movie[0], idx_to_movie[1], idx_to_movie[2], idx_to_movie[3] "
   ]
  },
  {
   "cell_type": "code",
   "execution_count": 15,
   "metadata": {},
   "outputs": [
    {
     "data": {
      "text/plain": [
       "(0, 1, 2, 3)"
      ]
     },
     "execution_count": 15,
     "metadata": {},
     "output_type": "execute_result"
    }
   ],
   "source": [
    "movie_to_idx['Toy Story (1995)'], movie_to_idx['GoldenEye (1995)'], movie_to_idx['Four Rooms (1995)'], movie_to_idx['Get Shorty (1995)'] "
   ]
  },
  {
   "cell_type": "markdown",
   "metadata": {},
   "source": [
    "* `idx_to_movie` is a dictionary which maps movie_index to movie name<br>\n",
    "* `movie_to_idx` is a dictionary which maps movie name to movie_index<br>\n",
    "<br>\n",
    "Now, let's write a function to given a movie name, find `k` closest movies to it."
   ]
  },
  {
   "cell_type": "code",
   "execution_count": 16,
   "metadata": {},
   "outputs": [],
   "source": [
    "# What we do is, we just that movie's column & sort it by value.\n",
    "# Those value represents \"similarity\" so, we just need to sort it & pick first \"k\" values.\n",
    "\n",
    "def top_k_movies(similarity, mapper, movie_idx, k=6):\n",
    "    return [mapper[x] for x in np.argsort(similarity[movie_idx,:])[:-k-2:-1]]"
   ]
  },
  {
   "cell_type": "markdown",
   "metadata": {},
   "source": [
    "## Let's find out similar movies of \"Batman Forever\" movie.<br>\n",
    "### We can recommend these movies to users who like \"Batman Forever\" movie."
   ]
  },
  {
   "cell_type": "code",
   "execution_count": 17,
   "metadata": {},
   "outputs": [
    {
     "data": {
      "text/plain": [
       "28"
      ]
     },
     "execution_count": 17,
     "metadata": {},
     "output_type": "execute_result"
    }
   ],
   "source": [
    "favorite_movie_name = 'Batman Forever (1995)'\n",
    "movie_index = movie_to_idx[favorite_movie_name]\n",
    "movie_index"
   ]
  },
  {
   "cell_type": "code",
   "execution_count": 18,
   "metadata": {},
   "outputs": [
    {
     "data": {
      "text/plain": [
       "['Batman (1989)',\n",
       " 'Batman Returns (1992)',\n",
       " 'Cliffhanger (1993)',\n",
       " 'Demolition Man (1993)',\n",
       " 'Stargate (1994)',\n",
       " 'Net, The (1995)',\n",
       " 'Waterworld (1995)']"
      ]
     },
     "execution_count": 18,
     "metadata": {},
     "output_type": "execute_result"
    }
   ],
   "source": [
    "how_much_movie_to_show = 7\n",
    "\n",
    "movies = top_k_movies(movie_similarity, idx_to_movie, movie_index, k = how_much_movie_to_show)\n",
    "movies[1:how_much_movie_to_show + 1]"
   ]
  },
  {
   "cell_type": "markdown",
   "metadata": {},
   "source": [
    "## Cool !!\n",
    "\n",
    "## What a Recommendation..<br>\n",
    "\n",
    "### \"Batman Forever (1995)\" movie is similar to \"Batman (1989)\" & \"Batman Returns (1992)\"<br>And \"Cliffhanger (1993)\" is also an Action movie.<br>\n",
    "\n",
    "### Let's find similar movies to \"Star Wars (1977)\" movie.\n"
   ]
  },
  {
   "cell_type": "code",
   "execution_count": 19,
   "metadata": {},
   "outputs": [
    {
     "data": {
      "text/plain": [
       "49"
      ]
     },
     "execution_count": 19,
     "metadata": {},
     "output_type": "execute_result"
    }
   ],
   "source": [
    "favorite_movie_name = 'Star Wars (1977)'\n",
    "movie_index = movie_to_idx[favorite_movie_name]\n",
    "movie_index"
   ]
  },
  {
   "cell_type": "code",
   "execution_count": 20,
   "metadata": {},
   "outputs": [
    {
     "data": {
      "text/plain": [
       "['Return of the Jedi (1983)',\n",
       " 'Raiders of the Lost Ark (1981)',\n",
       " 'Empire Strikes Back, The (1980)',\n",
       " 'Toy Story (1995)',\n",
       " 'Godfather, The (1972)',\n",
       " 'Independence Day (ID4) (1996)',\n",
       " 'Indiana Jones and the Last Crusade (1989)']"
      ]
     },
     "execution_count": 20,
     "metadata": {},
     "output_type": "execute_result"
    }
   ],
   "source": [
    "how_much_movie_to_show = 7\n",
    "\n",
    "movies = top_k_movies(movie_similarity, idx_to_movie, movie_index, k = how_much_movie_to_show)\n",
    "movies[1:how_much_movie_to_show + 1]"
   ]
  },
  {
   "cell_type": "markdown",
   "metadata": {},
   "source": [
    "## Again, good recommendations.<br>\"Return of the Jedi (1983)\" & \"Empire Strikes Back, The (1980)\" are also \"Star Wars\" movies.\n",
    "\n",
    "### Our goal from this lesson was to learn very basic method which we can use to recommend items.<br> We learned simple yet effective methods which we can use in recommendation.\n",
    "\n",
    "# Summary\n",
    "\n",
    "* We saw 2 types of recommendation \"User based\" & \"Item based\"\n",
    "* We saw, how to create 2D matrix which we can use to create distances between each movie & user.\n",
    "* We learned, we can use cosine distance to calculate distance between them.\n",
    "* We saw how we can recommend movies to a user by finding k nearest movies from that movie which user like.\n",
    "\n",
    "## Upvote this kernel if you have learned something from it.\n",
    "## Tell me if you have any kind of doubts / questions in comment section below.\n",
    "\n",
    "## See you in the next lesson 👋"
   ]
  },
  {
   "cell_type": "code",
   "execution_count": null,
   "metadata": {
    "_cell_guid": "79c7e3d0-c299-4dcb-8224-4455121ee9b0",
    "_uuid": "d629ff2d2480ee46fbb7e2d37f6b5fab8052498a",
    "collapsed": true
   },
   "outputs": [],
   "source": []
  },
  {
   "cell_type": "code",
   "execution_count": null,
   "metadata": {},
   "outputs": [],
   "source": []
  }
 ],
 "metadata": {
  "kernelspec": {
   "display_name": "Python 3",
   "language": "python",
   "name": "python3"
  },
  "language_info": {
   "codemirror_mode": {
    "name": "ipython",
    "version": 3
   },
   "file_extension": ".py",
   "mimetype": "text/x-python",
   "name": "python",
   "nbconvert_exporter": "python",
   "pygments_lexer": "ipython3",
   "version": "3.6.6"
  }
 },
 "nbformat": 4,
 "nbformat_minor": 4
}
